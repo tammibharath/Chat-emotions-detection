{
  "nbformat": 4,
  "nbformat_minor": 0,
  "metadata": {
    "colab": {
      "name": "Emotion Detection from Text.ipynb",
      "provenance": [],
      "collapsed_sections": []
    },
    "kernelspec": {
      "display_name": "Python 3",
      "language": "python",
      "name": "python3"
    },
    "language_info": {
      "codemirror_mode": {
        "name": "ipython",
        "version": 3
      },
      "file_extension": ".py",
      "mimetype": "text/x-python",
      "name": "python",
      "nbconvert_exporter": "python",
      "pygments_lexer": "ipython3",
      "version": "3.8.5"
    }
  },
  "cells": [
    {
      "cell_type": "markdown",
      "metadata": {
        "id": "8v_TMweECBqx"
      },
      "source": [
        "# Emotion Detection from Text\n",
        "Emotion is one of the basic instincts of a human being. Emotion detection plays a vital role in the field of textual analysis. At present, people’s expressions and emotional states have turned into the leading topic for research works. Emotion Detection and Recognition from texts are recent fields of research that are closely related to Emotion Analysis. Emotion Analysis aims at detecting and recognizing feelings through the expressions from sentences, such as *anger*, *surprise*, *joy*, *fear*, *sadness*, *love* etc.\n",
        "\n",
        "**Course No:** CSE4214\n",
        "\n",
        "**Course Name:** Pattern Recognition Lab\n",
        "\n",
        "**Course Teachers**\n",
        "\n",
        "\n",
        "*   Faisal Muhammad Shah\n",
        "*   Md. Tanvir Rouf Shawon\n",
        "\n",
        "\n",
        "\n",
        "**Team Members**\n",
        "\n",
        "*   160204107 - Nowshin Rumali\n",
        "*   170104116 - Rejone-E-Rasul Hridoy\n",
        "*   170104118 - Mehedi Hasan Sami\n",
        "\n",
        "\n"
      ]
    },
    {
      "cell_type": "code",
      "metadata": {
        "id": "X04yDzxo5l6U"
      },
      "source": [
        "# Basic Libraries\n",
        "import pandas as pd\n",
        "import numpy as np\n",
        "\n",
        "# Visualization libraries\n",
        "import seaborn as sns\n",
        "import matplotlib.pyplot as plt\n",
        "\n",
        "# Text Libraries\n",
        "import nltk \n",
        "import string\n",
        "import re\n",
        "\n",
        "# Feature Extraction Libraries\n",
        "from sklearn.feature_extraction.text import CountVectorizer\n",
        "from sklearn.feature_extraction.text import TfidfVectorizer\n",
        "from sklearn.feature_extraction.text import TfidfTransformer\n",
        "from sklearn.model_selection import train_test_split\n",
        "\n",
        "# Classifier Model libraries\n",
        "from sklearn.linear_model import SGDClassifier\n",
        "from sklearn.ensemble import RandomForestClassifier\n",
        "from xgboost import XGBClassifier\n",
        "import xgboost as xgb\n",
        "from sklearn.linear_model import LogisticRegression\n",
        "from sklearn.naive_bayes import MultinomialNB\n",
        "from sklearn import tree\n",
        "# from sklearn.pipeline import Pipeline\n",
        "\n",
        "# Performance Matrix libraries\n",
        "from sklearn.metrics import accuracy_score\n",
        "from sklearn.metrics import precision_score\n",
        "from sklearn.metrics import recall_score\n",
        "from sklearn.metrics import confusion_matrix\n",
        "from sklearn.metrics import f1_score\n",
        "from sklearn.metrics import classification_report\n",
        "from sklearn.metrics import ConfusionMatrixDisplay\n",
        "\n",
        "# other\n",
        "import warnings\n",
        "warnings.filterwarnings(\"ignore\")\n",
        "\n",
        "# Drive Mount\n",
        "# from google.colab import drive\n",
        "# drive.mount('/content/drive')"
      ],
      "execution_count": null,
      "outputs": []
    },
    {
      "cell_type": "markdown",
      "metadata": {
        "id": "9aCu2ZGa5l6o"
      },
      "source": [
        "# 1. Dataset"
      ]
    },
    {
      "cell_type": "code",
      "metadata": {
        "colab": {
          "base_uri": "https://localhost:8080/",
          "height": 424
        },
        "id": "5BlipRxL5l6z",
        "outputId": "688f4786-1cab-4c54-9af5-714883832758"
      },
      "source": [
        "# df = pd.read_csv('/content/drive/MyDrive/CSE/4.2/CSE4214 - Pattern Recognition Lab/Project/text_emotions.csv')\n",
        "df = pd.read_csv('text_emotions.csv')\n",
        "df\n",
        "\n",
        "# df = pd.read_csv('/content/drive/MyDrive/Colab Notebooks/PR/Copy of text_emotions.csv')\n",
        "# df['sentiment'].unique()"
      ],
      "execution_count": null,
      "outputs": [
        {
          "data": {
            "text/html": [
              "<div>\n",
              "<style scoped>\n",
              "    .dataframe tbody tr th:only-of-type {\n",
              "        vertical-align: middle;\n",
              "    }\n",
              "\n",
              "    .dataframe tbody tr th {\n",
              "        vertical-align: top;\n",
              "    }\n",
              "\n",
              "    .dataframe thead th {\n",
              "        text-align: right;\n",
              "    }\n",
              "</style>\n",
              "<table border=\"1\" class=\"dataframe\">\n",
              "  <thead>\n",
              "    <tr style=\"text-align: right;\">\n",
              "      <th></th>\n",
              "      <th>content</th>\n",
              "      <th>sentiment</th>\n",
              "    </tr>\n",
              "  </thead>\n",
              "  <tbody>\n",
              "    <tr>\n",
              "      <th>0</th>\n",
              "      <td>i didnt feel humiliated</td>\n",
              "      <td>sadness</td>\n",
              "    </tr>\n",
              "    <tr>\n",
              "      <th>1</th>\n",
              "      <td>i can go from feeling so hopeless to so damned...</td>\n",
              "      <td>sadness</td>\n",
              "    </tr>\n",
              "    <tr>\n",
              "      <th>2</th>\n",
              "      <td>im grabbing a minute to post i feel greedy wrong</td>\n",
              "      <td>anger</td>\n",
              "    </tr>\n",
              "    <tr>\n",
              "      <th>3</th>\n",
              "      <td>i am ever feeling nostalgic about the fireplac...</td>\n",
              "      <td>love</td>\n",
              "    </tr>\n",
              "    <tr>\n",
              "      <th>4</th>\n",
              "      <td>i am feeling grouchy</td>\n",
              "      <td>anger</td>\n",
              "    </tr>\n",
              "    <tr>\n",
              "      <th>...</th>\n",
              "      <td>...</td>\n",
              "      <td>...</td>\n",
              "    </tr>\n",
              "    <tr>\n",
              "      <th>19995</th>\n",
              "      <td>im having ssa examination tomorrow in the morn...</td>\n",
              "      <td>sadness</td>\n",
              "    </tr>\n",
              "    <tr>\n",
              "      <th>19996</th>\n",
              "      <td>i constantly worry about their fight against n...</td>\n",
              "      <td>joy</td>\n",
              "    </tr>\n",
              "    <tr>\n",
              "      <th>19997</th>\n",
              "      <td>i feel its important to share this info for th...</td>\n",
              "      <td>joy</td>\n",
              "    </tr>\n",
              "    <tr>\n",
              "      <th>19998</th>\n",
              "      <td>i truly feel that if you are passionate enough...</td>\n",
              "      <td>joy</td>\n",
              "    </tr>\n",
              "    <tr>\n",
              "      <th>19999</th>\n",
              "      <td>i feel like i just wanna buy any cute make up ...</td>\n",
              "      <td>joy</td>\n",
              "    </tr>\n",
              "  </tbody>\n",
              "</table>\n",
              "<p>20000 rows × 2 columns</p>\n",
              "</div>"
            ],
            "text/plain": [
              "                                                 content sentiment\n",
              "0                                i didnt feel humiliated   sadness\n",
              "1      i can go from feeling so hopeless to so damned...   sadness\n",
              "2       im grabbing a minute to post i feel greedy wrong     anger\n",
              "3      i am ever feeling nostalgic about the fireplac...      love\n",
              "4                                   i am feeling grouchy     anger\n",
              "...                                                  ...       ...\n",
              "19995  im having ssa examination tomorrow in the morn...   sadness\n",
              "19996  i constantly worry about their fight against n...       joy\n",
              "19997  i feel its important to share this info for th...       joy\n",
              "19998  i truly feel that if you are passionate enough...       joy\n",
              "19999  i feel like i just wanna buy any cute make up ...       joy\n",
              "\n",
              "[20000 rows x 2 columns]"
            ]
          },
          "execution_count": 2,
          "metadata": {},
          "output_type": "execute_result"
        }
      ]
    },
    {
      "cell_type": "code",
      "metadata": {
        "colab": {
          "base_uri": "https://localhost:8080/"
        },
        "id": "hh5xHi7_5l6_",
        "outputId": "c3c04f4d-ed84-46bc-d68d-478bfc8ce833"
      },
      "source": [
        "print('Dataset size:',df.shape)\n",
        "print('Columns are:',df.columns)\n",
        "Y = df['sentiment']"
      ],
      "execution_count": null,
      "outputs": [
        {
          "name": "stdout",
          "output_type": "stream",
          "text": [
            "Dataset size: (20000, 2)\n",
            "Columns are: Index(['content', 'sentiment'], dtype='object')\n"
          ]
        }
      ]
    },
    {
      "cell_type": "code",
      "metadata": {
        "colab": {
          "base_uri": "https://localhost:8080/"
        },
        "id": "WmQ1gtBn5l7D",
        "outputId": "11f7af8f-4f4b-478e-8b01-41c63e2b21ed"
      },
      "source": [
        "df.info()"
      ],
      "execution_count": null,
      "outputs": [
        {
          "name": "stdout",
          "output_type": "stream",
          "text": [
            "<class 'pandas.core.frame.DataFrame'>\n",
            "RangeIndex: 20000 entries, 0 to 19999\n",
            "Data columns (total 2 columns):\n",
            " #   Column     Non-Null Count  Dtype \n",
            "---  ------     --------------  ----- \n",
            " 0   content    20000 non-null  object\n",
            " 1   sentiment  20000 non-null  object\n",
            "dtypes: object(2)\n",
            "memory usage: 312.6+ KB\n"
          ]
        }
      ]
    },
    {
      "cell_type": "markdown",
      "metadata": {
        "id": "YQqvaFaz5l7G"
      },
      "source": [
        "## Dataset Emotion Analysis"
      ]
    },
    {
      "cell_type": "code",
      "metadata": {
        "colab": {
          "base_uri": "https://localhost:8080/",
          "height": 298
        },
        "id": "cdv0sKic5l7H",
        "outputId": "2e6e4fc6-a124-4fae-9e0e-95447becc990"
      },
      "source": [
        "sns.countplot(x = 'sentiment', data = df)"
      ],
      "execution_count": null,
      "outputs": [
        {
          "data": {
            "text/plain": [
              "<AxesSubplot:xlabel='sentiment', ylabel='count'>"
            ]
          },
          "execution_count": 5,
          "metadata": {},
          "output_type": "execute_result"
        },
        {
          "data": {
            "image/png": "[encoded data removed]",
            "text/plain": [
              "<Figure size 432x288 with 1 Axes>"
            ]
          },
          "metadata": {
            "needs_background": "light"
          },
          "output_type": "display_data"
        }
      ]
    },
    {
      "cell_type": "markdown",
      "metadata": {
        "id": "aYwytKs_5l7J"
      },
      "source": [
        "# 2. Pre-processing text data\n",
        "    1. Remove punctuations\n",
        "    2. Tokenization - Converting a sentence into list of words\n",
        "    3. Remove stopwords\n",
        "    4. Lammetization/stemming - Tranforming any form of a word to its root word"
      ]
    },
    {
      "cell_type": "markdown",
      "metadata": {
        "id": "EXYLyYIv5l7N"
      },
      "source": [
        "## 2.1 Remove Punctuations"
      ]
    },
    {
      "cell_type": "code",
      "metadata": {
        "colab": {
          "base_uri": "https://localhost:8080/",
          "height": 363
        },
        "id": "UzK78OdJ5l7P",
        "outputId": "480398c4-9e61-4add-cf0e-29f34559878e"
      },
      "source": [
        "emojis = pd.read_csv('emojis.txt',sep=',',header=None)\n",
        "emojis_dict = {i:j for i,j in zip(emojis[0],emojis[1])}\n",
        "pattern = '|'.join(sorted(re.escape(k) for k in emojis_dict))\n",
        "\n",
        "def replace_emojis(text):\n",
        "    text = re.sub(pattern,lambda m: emojis_dict.get(m.group(0)), text, flags=re.IGNORECASE)\n",
        "    return text\n",
        "\n",
        "def remove_punct(text):\n",
        "    text = replace_emojis(text)\n",
        "    text  = \"\".join([char for char in text if char not in string.punctuation])\n",
        "    text = re.sub('[0-9]+', '', text)\n",
        "    return text\n",
        "\n",
        "df['Tweet_punct'] = df['content'].apply(lambda x: remove_punct(x))\n",
        "df.head(10)"
      ],
      "execution_count": null,
      "outputs": [
        {
          "data": {
            "text/html": [
              "<div>\n",
              "<style scoped>\n",
              "    .dataframe tbody tr th:only-of-type {\n",
              "        vertical-align: middle;\n",
              "    }\n",
              "\n",
              "    .dataframe tbody tr th {\n",
              "        vertical-align: top;\n",
              "    }\n",
              "\n",
              "    .dataframe thead th {\n",
              "        text-align: right;\n",
              "    }\n",
              "</style>\n",
              "<table border=\"1\" class=\"dataframe\">\n",
              "  <thead>\n",
              "    <tr style=\"text-align: right;\">\n",
              "      <th></th>\n",
              "      <th>content</th>\n",
              "      <th>sentiment</th>\n",
              "      <th>Tweet_punct</th>\n",
              "    </tr>\n",
              "  </thead>\n",
              "  <tbody>\n",
              "    <tr>\n",
              "      <th>0</th>\n",
              "      <td>i didnt feel humiliated</td>\n",
              "      <td>sadness</td>\n",
              "      <td>i didnt feel humiliated</td>\n",
              "    </tr>\n",
              "    <tr>\n",
              "      <th>1</th>\n",
              "      <td>i can go from feeling so hopeless to so damned...</td>\n",
              "      <td>sadness</td>\n",
              "      <td>i can go from feeling so hopeless to so damned...</td>\n",
              "    </tr>\n",
              "    <tr>\n",
              "      <th>2</th>\n",
              "      <td>im grabbing a minute to post i feel greedy wrong</td>\n",
              "      <td>anger</td>\n",
              "      <td>im grabbing a minute to post i feel greedy wrong</td>\n",
              "    </tr>\n",
              "    <tr>\n",
              "      <th>3</th>\n",
              "      <td>i am ever feeling nostalgic about the fireplac...</td>\n",
              "      <td>love</td>\n",
              "      <td>i am ever feeling nostalgic about the fireplac...</td>\n",
              "    </tr>\n",
              "    <tr>\n",
              "      <th>4</th>\n",
              "      <td>i am feeling grouchy</td>\n",
              "      <td>anger</td>\n",
              "      <td>i am feeling grouchy</td>\n",
              "    </tr>\n",
              "    <tr>\n",
              "      <th>5</th>\n",
              "      <td>ive been feeling a little burdened lately wasn...</td>\n",
              "      <td>sadness</td>\n",
              "      <td>ive been feeling a little burdened lately wasn...</td>\n",
              "    </tr>\n",
              "    <tr>\n",
              "      <th>6</th>\n",
              "      <td>ive been taking or milligrams or times recomme...</td>\n",
              "      <td>surprise</td>\n",
              "      <td>ive been taking or milligrams or times recomme...</td>\n",
              "    </tr>\n",
              "    <tr>\n",
              "      <th>7</th>\n",
              "      <td>i feel as confused about life as a teenager or...</td>\n",
              "      <td>fear</td>\n",
              "      <td>i feel as confused about life as a teenager or...</td>\n",
              "    </tr>\n",
              "    <tr>\n",
              "      <th>8</th>\n",
              "      <td>i have been with petronas for years i feel tha...</td>\n",
              "      <td>joy</td>\n",
              "      <td>i have been with petronas for years i feel tha...</td>\n",
              "    </tr>\n",
              "    <tr>\n",
              "      <th>9</th>\n",
              "      <td>i feel romantic too</td>\n",
              "      <td>love</td>\n",
              "      <td>i feel romantic too</td>\n",
              "    </tr>\n",
              "  </tbody>\n",
              "</table>\n",
              "</div>"
            ],
            "text/plain": [
              "                                             content sentiment  \\\n",
              "0                            i didnt feel humiliated   sadness   \n",
              "1  i can go from feeling so hopeless to so damned...   sadness   \n",
              "2   im grabbing a minute to post i feel greedy wrong     anger   \n",
              "3  i am ever feeling nostalgic about the fireplac...      love   \n",
              "4                               i am feeling grouchy     anger   \n",
              "5  ive been feeling a little burdened lately wasn...   sadness   \n",
              "6  ive been taking or milligrams or times recomme...  surprise   \n",
              "7  i feel as confused about life as a teenager or...      fear   \n",
              "8  i have been with petronas for years i feel tha...       joy   \n",
              "9                                i feel romantic too      love   \n",
              "\n",
              "                                         Tweet_punct  \n",
              "0                            i didnt feel humiliated  \n",
              "1  i can go from feeling so hopeless to so damned...  \n",
              "2   im grabbing a minute to post i feel greedy wrong  \n",
              "3  i am ever feeling nostalgic about the fireplac...  \n",
              "4                               i am feeling grouchy  \n",
              "5  ive been feeling a little burdened lately wasn...  \n",
              "6  ive been taking or milligrams or times recomme...  \n",
              "7  i feel as confused about life as a teenager or...  \n",
              "8  i have been with petronas for years i feel tha...  \n",
              "9                                i feel romantic too  "
            ]
          },
          "execution_count": 6,
          "metadata": {},
          "output_type": "execute_result"
        }
      ]
    },
    {
      "cell_type": "markdown",
      "metadata": {
        "id": "b3_uwWYP5l7R"
      },
      "source": [
        "## 2.2 Tokenization"
      ]
    },
    {
      "cell_type": "code",
      "metadata": {
        "colab": {
          "base_uri": "https://localhost:8080/",
          "height": 363
        },
        "id": "x2F9F6-E5l7T",
        "outputId": "e83fbbdb-cf4c-4ef6-c7d9-8242dc096df8"
      },
      "source": [
        "def tokenization(text):\n",
        "    text = text.lower()\n",
        "    text = re.split('\\W+', text)\n",
        "    \n",
        "    return text\n",
        "\n",
        "df['Tweet_tokenized'] = df['Tweet_punct'].apply(lambda x: tokenization(x.lower()))\n",
        "df.head(10)"
      ],
      "execution_count": null,
      "outputs": [
        {
          "data": {
            "text/html": [
              "<div>\n",
              "<style scoped>\n",
              "    .dataframe tbody tr th:only-of-type {\n",
              "        vertical-align: middle;\n",
              "    }\n",
              "\n",
              "    .dataframe tbody tr th {\n",
              "        vertical-align: top;\n",
              "    }\n",
              "\n",
              "    .dataframe thead th {\n",
              "        text-align: right;\n",
              "    }\n",
              "</style>\n",
              "<table border=\"1\" class=\"dataframe\">\n",
              "  <thead>\n",
              "    <tr style=\"text-align: right;\">\n",
              "      <th></th>\n",
              "      <th>content</th>\n",
              "      <th>sentiment</th>\n",
              "      <th>Tweet_punct</th>\n",
              "      <th>Tweet_tokenized</th>\n",
              "    </tr>\n",
              "  </thead>\n",
              "  <tbody>\n",
              "    <tr>\n",
              "      <th>0</th>\n",
              "      <td>i didnt feel humiliated</td>\n",
              "      <td>sadness</td>\n",
              "      <td>i didnt feel humiliated</td>\n",
              "      <td>[i, didnt, feel, humiliated]</td>\n",
              "    </tr>\n",
              "    <tr>\n",
              "      <th>1</th>\n",
              "      <td>i can go from feeling so hopeless to so damned...</td>\n",
              "      <td>sadness</td>\n",
              "      <td>i can go from feeling so hopeless to so damned...</td>\n",
              "      <td>[i, can, go, from, feeling, so, hopeless, to, ...</td>\n",
              "    </tr>\n",
              "    <tr>\n",
              "      <th>2</th>\n",
              "      <td>im grabbing a minute to post i feel greedy wrong</td>\n",
              "      <td>anger</td>\n",
              "      <td>im grabbing a minute to post i feel greedy wrong</td>\n",
              "      <td>[im, grabbing, a, minute, to, post, i, feel, g...</td>\n",
              "    </tr>\n",
              "    <tr>\n",
              "      <th>3</th>\n",
              "      <td>i am ever feeling nostalgic about the fireplac...</td>\n",
              "      <td>love</td>\n",
              "      <td>i am ever feeling nostalgic about the fireplac...</td>\n",
              "      <td>[i, am, ever, feeling, nostalgic, about, the, ...</td>\n",
              "    </tr>\n",
              "    <tr>\n",
              "      <th>4</th>\n",
              "      <td>i am feeling grouchy</td>\n",
              "      <td>anger</td>\n",
              "      <td>i am feeling grouchy</td>\n",
              "      <td>[i, am, feeling, grouchy]</td>\n",
              "    </tr>\n",
              "    <tr>\n",
              "      <th>5</th>\n",
              "      <td>ive been feeling a little burdened lately wasn...</td>\n",
              "      <td>sadness</td>\n",
              "      <td>ive been feeling a little burdened lately wasn...</td>\n",
              "      <td>[ive, been, feeling, a, little, burdened, late...</td>\n",
              "    </tr>\n",
              "    <tr>\n",
              "      <th>6</th>\n",
              "      <td>ive been taking or milligrams or times recomme...</td>\n",
              "      <td>surprise</td>\n",
              "      <td>ive been taking or milligrams or times recomme...</td>\n",
              "      <td>[ive, been, taking, or, milligrams, or, times,...</td>\n",
              "    </tr>\n",
              "    <tr>\n",
              "      <th>7</th>\n",
              "      <td>i feel as confused about life as a teenager or...</td>\n",
              "      <td>fear</td>\n",
              "      <td>i feel as confused about life as a teenager or...</td>\n",
              "      <td>[i, feel, as, confused, about, life, as, a, te...</td>\n",
              "    </tr>\n",
              "    <tr>\n",
              "      <th>8</th>\n",
              "      <td>i have been with petronas for years i feel tha...</td>\n",
              "      <td>joy</td>\n",
              "      <td>i have been with petronas for years i feel tha...</td>\n",
              "      <td>[i, have, been, with, petronas, for, years, i,...</td>\n",
              "    </tr>\n",
              "    <tr>\n",
              "      <th>9</th>\n",
              "      <td>i feel romantic too</td>\n",
              "      <td>love</td>\n",
              "      <td>i feel romantic too</td>\n",
              "      <td>[i, feel, romantic, too]</td>\n",
              "    </tr>\n",
              "  </tbody>\n",
              "</table>\n",
              "</div>"
            ],
            "text/plain": [
              "                                             content sentiment  \\\n",
              "0                            i didnt feel humiliated   sadness   \n",
              "1  i can go from feeling so hopeless to so damned...   sadness   \n",
              "2   im grabbing a minute to post i feel greedy wrong     anger   \n",
              "3  i am ever feeling nostalgic about the fireplac...      love   \n",
              "4                               i am feeling grouchy     anger   \n",
              "5  ive been feeling a little burdened lately wasn...   sadness   \n",
              "6  ive been taking or milligrams or times recomme...  surprise   \n",
              "7  i feel as confused about life as a teenager or...      fear   \n",
              "8  i have been with petronas for years i feel tha...       joy   \n",
              "9                                i feel romantic too      love   \n",
              "\n",
              "                                         Tweet_punct  \\\n",
              "0                            i didnt feel humiliated   \n",
              "1  i can go from feeling so hopeless to so damned...   \n",
              "2   im grabbing a minute to post i feel greedy wrong   \n",
              "3  i am ever feeling nostalgic about the fireplac...   \n",
              "4                               i am feeling grouchy   \n",
              "5  ive been feeling a little burdened lately wasn...   \n",
              "6  ive been taking or milligrams or times recomme...   \n",
              "7  i feel as confused about life as a teenager or...   \n",
              "8  i have been with petronas for years i feel tha...   \n",
              "9                                i feel romantic too   \n",
              "\n",
              "                                     Tweet_tokenized  \n",
              "0                       [i, didnt, feel, humiliated]  \n",
              "1  [i, can, go, from, feeling, so, hopeless, to, ...  \n",
              "2  [im, grabbing, a, minute, to, post, i, feel, g...  \n",
              "3  [i, am, ever, feeling, nostalgic, about, the, ...  \n",
              "4                          [i, am, feeling, grouchy]  \n",
              "5  [ive, been, feeling, a, little, burdened, late...  \n",
              "6  [ive, been, taking, or, milligrams, or, times,...  \n",
              "7  [i, feel, as, confused, about, life, as, a, te...  \n",
              "8  [i, have, been, with, petronas, for, years, i,...  \n",
              "9                           [i, feel, romantic, too]  "
            ]
          },
          "execution_count": 7,
          "metadata": {},
          "output_type": "execute_result"
        }
      ]
    },
    {
      "cell_type": "markdown",
      "metadata": {
        "id": "GcpC-5mq5l7U"
      },
      "source": [
        "## 2.3 Remove Stopwords"
      ]
    },
    {
      "cell_type": "code",
      "metadata": {
        "colab": {
          "base_uri": "https://localhost:8080/"
        },
        "id": "5La56ZVF5l7V",
        "outputId": "820e5972-63df-493d-8583-fe654c794227"
      },
      "source": [
        "import nltk\n",
        "nltk.download('stopwords')\n",
        "stopword = nltk.corpus.stopwords.words('english')\n",
        "stopword.extend(['yr', 'year', 'woman', 'man', 'girl','boy','one', 'two', 'sixteen', 'yearold', 'fu', 'weeks', 'week',\n",
        "              'treatment', 'associated', 'patients', 'may','day', 'case','old','u','n','didnt','ive','ate','feel','keep'\n",
        "                ,'brother','dad','basic','im'])"
      ],
      "execution_count": null,
      "outputs": [
        {
          "name": "stderr",
          "output_type": "stream",
          "text": [
            "[nltk_data] Downloading package stopwords to\n",
            "[nltk_data]     C:\\Users\\user\\AppData\\Roaming\\nltk_data...\n",
            "[nltk_data]   Package stopwords is already up-to-date!\n"
          ]
        }
      ]
    },
    {
      "cell_type": "code",
      "metadata": {
        "colab": {
          "base_uri": "https://localhost:8080/",
          "height": 363
        },
        "id": "r8g0uwqu5l7W",
        "outputId": "779d131f-ef47-48db-93f9-87e1aecb01aa"
      },
      "source": [
        "def remove_stopwords(text):\n",
        "    text = [word for word in text if word not in stopword]\n",
        "    return text\n",
        "    \n",
        "df['Tweet_nonstop'] = df['Tweet_tokenized'].apply(lambda x: remove_stopwords(x))\n",
        "df.head(10)"
      ],
      "execution_count": null,
      "outputs": [
        {
          "data": {
            "text/html": [
              "<div>\n",
              "<style scoped>\n",
              "    .dataframe tbody tr th:only-of-type {\n",
              "        vertical-align: middle;\n",
              "    }\n",
              "\n",
              "    .dataframe tbody tr th {\n",
              "        vertical-align: top;\n",
              "    }\n",
              "\n",
              "    .dataframe thead th {\n",
              "        text-align: right;\n",
              "    }\n",
              "</style>\n",
              "<table border=\"1\" class=\"dataframe\">\n",
              "  <thead>\n",
              "    <tr style=\"text-align: right;\">\n",
              "      <th></th>\n",
              "      <th>content</th>\n",
              "      <th>sentiment</th>\n",
              "      <th>Tweet_punct</th>\n",
              "      <th>Tweet_tokenized</th>\n",
              "      <th>Tweet_nonstop</th>\n",
              "    </tr>\n",
              "  </thead>\n",
              "  <tbody>\n",
              "    <tr>\n",
              "      <th>0</th>\n",
              "      <td>i didnt feel humiliated</td>\n",
              "      <td>sadness</td>\n",
              "      <td>i didnt feel humiliated</td>\n",
              "      <td>[i, didnt, feel, humiliated]</td>\n",
              "      <td>[humiliated]</td>\n",
              "    </tr>\n",
              "    <tr>\n",
              "      <th>1</th>\n",
              "      <td>i can go from feeling so hopeless to so damned...</td>\n",
              "      <td>sadness</td>\n",
              "      <td>i can go from feeling so hopeless to so damned...</td>\n",
              "      <td>[i, can, go, from, feeling, so, hopeless, to, ...</td>\n",
              "      <td>[go, feeling, hopeless, damned, hopeful, aroun...</td>\n",
              "    </tr>\n",
              "    <tr>\n",
              "      <th>2</th>\n",
              "      <td>im grabbing a minute to post i feel greedy wrong</td>\n",
              "      <td>anger</td>\n",
              "      <td>im grabbing a minute to post i feel greedy wrong</td>\n",
              "      <td>[im, grabbing, a, minute, to, post, i, feel, g...</td>\n",
              "      <td>[grabbing, minute, post, greedy, wrong]</td>\n",
              "    </tr>\n",
              "    <tr>\n",
              "      <th>3</th>\n",
              "      <td>i am ever feeling nostalgic about the fireplac...</td>\n",
              "      <td>love</td>\n",
              "      <td>i am ever feeling nostalgic about the fireplac...</td>\n",
              "      <td>[i, am, ever, feeling, nostalgic, about, the, ...</td>\n",
              "      <td>[ever, feeling, nostalgic, fireplace, know, st...</td>\n",
              "    </tr>\n",
              "    <tr>\n",
              "      <th>4</th>\n",
              "      <td>i am feeling grouchy</td>\n",
              "      <td>anger</td>\n",
              "      <td>i am feeling grouchy</td>\n",
              "      <td>[i, am, feeling, grouchy]</td>\n",
              "      <td>[feeling, grouchy]</td>\n",
              "    </tr>\n",
              "    <tr>\n",
              "      <th>5</th>\n",
              "      <td>ive been feeling a little burdened lately wasn...</td>\n",
              "      <td>sadness</td>\n",
              "      <td>ive been feeling a little burdened lately wasn...</td>\n",
              "      <td>[ive, been, feeling, a, little, burdened, late...</td>\n",
              "      <td>[feeling, little, burdened, lately, wasnt, sure]</td>\n",
              "    </tr>\n",
              "    <tr>\n",
              "      <th>6</th>\n",
              "      <td>ive been taking or milligrams or times recomme...</td>\n",
              "      <td>surprise</td>\n",
              "      <td>ive been taking or milligrams or times recomme...</td>\n",
              "      <td>[ive, been, taking, or, milligrams, or, times,...</td>\n",
              "      <td>[taking, milligrams, times, recommended, amoun...</td>\n",
              "    </tr>\n",
              "    <tr>\n",
              "      <th>7</th>\n",
              "      <td>i feel as confused about life as a teenager or...</td>\n",
              "      <td>fear</td>\n",
              "      <td>i feel as confused about life as a teenager or...</td>\n",
              "      <td>[i, feel, as, confused, about, life, as, a, te...</td>\n",
              "      <td>[confused, life, teenager, jaded]</td>\n",
              "    </tr>\n",
              "    <tr>\n",
              "      <th>8</th>\n",
              "      <td>i have been with petronas for years i feel tha...</td>\n",
              "      <td>joy</td>\n",
              "      <td>i have been with petronas for years i feel tha...</td>\n",
              "      <td>[i, have, been, with, petronas, for, years, i,...</td>\n",
              "      <td>[petronas, years, petronas, performed, well, m...</td>\n",
              "    </tr>\n",
              "    <tr>\n",
              "      <th>9</th>\n",
              "      <td>i feel romantic too</td>\n",
              "      <td>love</td>\n",
              "      <td>i feel romantic too</td>\n",
              "      <td>[i, feel, romantic, too]</td>\n",
              "      <td>[romantic]</td>\n",
              "    </tr>\n",
              "  </tbody>\n",
              "</table>\n",
              "</div>"
            ],
            "text/plain": [
              "                                             content sentiment  \\\n",
              "0                            i didnt feel humiliated   sadness   \n",
              "1  i can go from feeling so hopeless to so damned...   sadness   \n",
              "2   im grabbing a minute to post i feel greedy wrong     anger   \n",
              "3  i am ever feeling nostalgic about the fireplac...      love   \n",
              "4                               i am feeling grouchy     anger   \n",
              "5  ive been feeling a little burdened lately wasn...   sadness   \n",
              "6  ive been taking or milligrams or times recomme...  surprise   \n",
              "7  i feel as confused about life as a teenager or...      fear   \n",
              "8  i have been with petronas for years i feel tha...       joy   \n",
              "9                                i feel romantic too      love   \n",
              "\n",
              "                                         Tweet_punct  \\\n",
              "0                            i didnt feel humiliated   \n",
              "1  i can go from feeling so hopeless to so damned...   \n",
              "2   im grabbing a minute to post i feel greedy wrong   \n",
              "3  i am ever feeling nostalgic about the fireplac...   \n",
              "4                               i am feeling grouchy   \n",
              "5  ive been feeling a little burdened lately wasn...   \n",
              "6  ive been taking or milligrams or times recomme...   \n",
              "7  i feel as confused about life as a teenager or...   \n",
              "8  i have been with petronas for years i feel tha...   \n",
              "9                                i feel romantic too   \n",
              "\n",
              "                                     Tweet_tokenized  \\\n",
              "0                       [i, didnt, feel, humiliated]   \n",
              "1  [i, can, go, from, feeling, so, hopeless, to, ...   \n",
              "2  [im, grabbing, a, minute, to, post, i, feel, g...   \n",
              "3  [i, am, ever, feeling, nostalgic, about, the, ...   \n",
              "4                          [i, am, feeling, grouchy]   \n",
              "5  [ive, been, feeling, a, little, burdened, late...   \n",
              "6  [ive, been, taking, or, milligrams, or, times,...   \n",
              "7  [i, feel, as, confused, about, life, as, a, te...   \n",
              "8  [i, have, been, with, petronas, for, years, i,...   \n",
              "9                           [i, feel, romantic, too]   \n",
              "\n",
              "                                       Tweet_nonstop  \n",
              "0                                       [humiliated]  \n",
              "1  [go, feeling, hopeless, damned, hopeful, aroun...  \n",
              "2            [grabbing, minute, post, greedy, wrong]  \n",
              "3  [ever, feeling, nostalgic, fireplace, know, st...  \n",
              "4                                 [feeling, grouchy]  \n",
              "5   [feeling, little, burdened, lately, wasnt, sure]  \n",
              "6  [taking, milligrams, times, recommended, amoun...  \n",
              "7                  [confused, life, teenager, jaded]  \n",
              "8  [petronas, years, petronas, performed, well, m...  \n",
              "9                                         [romantic]  "
            ]
          },
          "execution_count": 9,
          "metadata": {},
          "output_type": "execute_result"
        }
      ]
    },
    {
      "cell_type": "markdown",
      "metadata": {
        "id": "20VcCTqg5l7Y"
      },
      "source": [
        "## 2.4 Lemmatization"
      ]
    },
    {
      "cell_type": "code",
      "metadata": {
        "colab": {
          "base_uri": "https://localhost:8080/",
          "height": 294
        },
        "id": "Q8-tcDef5l7n",
        "scrolled": true,
        "outputId": "086bdd4b-e691-4a45-90be-b5d1a1480304"
      },
      "source": [
        "nltk.download('wordnet')\n",
        "wn = nltk.WordNetLemmatizer()\n",
        "\n",
        "def lemmatizer(text):\n",
        "    text = [wn.lemmatize(word) for word in text]\n",
        "    return text\n",
        "\n",
        "df['Tweet_lemmatized'] = df['Tweet_nonstop'].apply(lambda x: lemmatizer(x))\n",
        "df.head()"
      ],
      "execution_count": null,
      "outputs": [
        {
          "name": "stderr",
          "output_type": "stream",
          "text": [
            "[nltk_data] Downloading package wordnet to\n",
            "[nltk_data]     C:\\Users\\user\\AppData\\Roaming\\nltk_data...\n",
            "[nltk_data]   Package wordnet is already up-to-date!\n"
          ]
        },
        {
          "data": {
            "text/html": [
              "<div>\n",
              "<style scoped>\n",
              "    .dataframe tbody tr th:only-of-type {\n",
              "        vertical-align: middle;\n",
              "    }\n",
              "\n",
              "    .dataframe tbody tr th {\n",
              "        vertical-align: top;\n",
              "    }\n",
              "\n",
              "    .dataframe thead th {\n",
              "        text-align: right;\n",
              "    }\n",
              "</style>\n",
              "<table border=\"1\" class=\"dataframe\">\n",
              "  <thead>\n",
              "    <tr style=\"text-align: right;\">\n",
              "      <th></th>\n",
              "      <th>content</th>\n",
              "      <th>sentiment</th>\n",
              "      <th>Tweet_punct</th>\n",
              "      <th>Tweet_tokenized</th>\n",
              "      <th>Tweet_nonstop</th>\n",
              "      <th>Tweet_lemmatized</th>\n",
              "    </tr>\n",
              "  </thead>\n",
              "  <tbody>\n",
              "    <tr>\n",
              "      <th>0</th>\n",
              "      <td>i didnt feel humiliated</td>\n",
              "      <td>sadness</td>\n",
              "      <td>i didnt feel humiliated</td>\n",
              "      <td>[i, didnt, feel, humiliated]</td>\n",
              "      <td>[humiliated]</td>\n",
              "      <td>[humiliated]</td>\n",
              "    </tr>\n",
              "    <tr>\n",
              "      <th>1</th>\n",
              "      <td>i can go from feeling so hopeless to so damned...</td>\n",
              "      <td>sadness</td>\n",
              "      <td>i can go from feeling so hopeless to so damned...</td>\n",
              "      <td>[i, can, go, from, feeling, so, hopeless, to, ...</td>\n",
              "      <td>[go, feeling, hopeless, damned, hopeful, aroun...</td>\n",
              "      <td>[go, feeling, hopeless, damned, hopeful, aroun...</td>\n",
              "    </tr>\n",
              "    <tr>\n",
              "      <th>2</th>\n",
              "      <td>im grabbing a minute to post i feel greedy wrong</td>\n",
              "      <td>anger</td>\n",
              "      <td>im grabbing a minute to post i feel greedy wrong</td>\n",
              "      <td>[im, grabbing, a, minute, to, post, i, feel, g...</td>\n",
              "      <td>[grabbing, minute, post, greedy, wrong]</td>\n",
              "      <td>[grabbing, minute, post, greedy, wrong]</td>\n",
              "    </tr>\n",
              "    <tr>\n",
              "      <th>3</th>\n",
              "      <td>i am ever feeling nostalgic about the fireplac...</td>\n",
              "      <td>love</td>\n",
              "      <td>i am ever feeling nostalgic about the fireplac...</td>\n",
              "      <td>[i, am, ever, feeling, nostalgic, about, the, ...</td>\n",
              "      <td>[ever, feeling, nostalgic, fireplace, know, st...</td>\n",
              "      <td>[ever, feeling, nostalgic, fireplace, know, st...</td>\n",
              "    </tr>\n",
              "    <tr>\n",
              "      <th>4</th>\n",
              "      <td>i am feeling grouchy</td>\n",
              "      <td>anger</td>\n",
              "      <td>i am feeling grouchy</td>\n",
              "      <td>[i, am, feeling, grouchy]</td>\n",
              "      <td>[feeling, grouchy]</td>\n",
              "      <td>[feeling, grouchy]</td>\n",
              "    </tr>\n",
              "  </tbody>\n",
              "</table>\n",
              "</div>"
            ],
            "text/plain": [
              "                                             content sentiment  \\\n",
              "0                            i didnt feel humiliated   sadness   \n",
              "1  i can go from feeling so hopeless to so damned...   sadness   \n",
              "2   im grabbing a minute to post i feel greedy wrong     anger   \n",
              "3  i am ever feeling nostalgic about the fireplac...      love   \n",
              "4                               i am feeling grouchy     anger   \n",
              "\n",
              "                                         Tweet_punct  \\\n",
              "0                            i didnt feel humiliated   \n",
              "1  i can go from feeling so hopeless to so damned...   \n",
              "2   im grabbing a minute to post i feel greedy wrong   \n",
              "3  i am ever feeling nostalgic about the fireplac...   \n",
              "4                               i am feeling grouchy   \n",
              "\n",
              "                                     Tweet_tokenized  \\\n",
              "0                       [i, didnt, feel, humiliated]   \n",
              "1  [i, can, go, from, feeling, so, hopeless, to, ...   \n",
              "2  [im, grabbing, a, minute, to, post, i, feel, g...   \n",
              "3  [i, am, ever, feeling, nostalgic, about, the, ...   \n",
              "4                          [i, am, feeling, grouchy]   \n",
              "\n",
              "                                       Tweet_nonstop  \\\n",
              "0                                       [humiliated]   \n",
              "1  [go, feeling, hopeless, damned, hopeful, aroun...   \n",
              "2            [grabbing, minute, post, greedy, wrong]   \n",
              "3  [ever, feeling, nostalgic, fireplace, know, st...   \n",
              "4                                 [feeling, grouchy]   \n",
              "\n",
              "                                    Tweet_lemmatized  \n",
              "0                                       [humiliated]  \n",
              "1  [go, feeling, hopeless, damned, hopeful, aroun...  \n",
              "2            [grabbing, minute, post, greedy, wrong]  \n",
              "3  [ever, feeling, nostalgic, fireplace, know, st...  \n",
              "4                                 [feeling, grouchy]  "
            ]
          },
          "execution_count": 10,
          "metadata": {},
          "output_type": "execute_result"
        }
      ]
    },
    {
      "cell_type": "markdown",
      "metadata": {
        "id": "okwZeu9ONb6D"
      },
      "source": [
        "## Token Frequency in a sentence after preprocessing"
      ]
    },
    {
      "cell_type": "code",
      "metadata": {
        "scrolled": false,
        "id": "xklQv4UTNb6V",
        "outputId": "0411a5d8-6d94-4df8-f883-8e335233ffb7"
      },
      "source": [
        "token_lengths = [len(t) for t in df['Tweet_lemmatized']]\n",
        "plt.hist(token_lengths,bins=33,width = 0.7, fc=\"green\",alpha=0.5)\n",
        "plt.xlabel('Number of Tokens')\n",
        "plt.ylabel('Number of Sentences')\n",
        "plt.title('Token Frequency')\n",
        "x_Values = [i for i in range(36)] \n",
        "plt.xticks(x_Values)\n",
        "plt.xlim(0,36)\n",
        "plt.rcParams[\"figure.figsize\"] = (10,5)\n",
        "plt.show()"
      ],
      "execution_count": null,
      "outputs": [
        {
          "data": {
            "image/png": "[encoded data removed]",
            "text/plain": [
              "<Figure size 720x360 with 1 Axes>"
            ]
          },
          "metadata": {
            "needs_background": "light"
          },
          "output_type": "display_data"
        }
      ]
    },
    {
      "cell_type": "markdown",
      "metadata": {
        "id": "VeT29o5_5l7v"
      },
      "source": [
        "## All in one (Text preprocessing)"
      ]
    },
    {
      "cell_type": "code",
      "metadata": {
        "id": "RC0gvthn5l79"
      },
      "source": [
        "def clean_text(text):\n",
        "    text = remove_punct(text)\n",
        "    text = tokenization(text)\n",
        "    text = remove_stopwords(text)\n",
        "    text = lemmatizer(text)\n",
        "    return text"
      ],
      "execution_count": null,
      "outputs": []
    },
    {
      "cell_type": "markdown",
      "metadata": {
        "id": "eostuOfY5l7_"
      },
      "source": [
        "# 3. Feature Extraction\n",
        "    1. Count Vectorizer\n",
        "    2. TF-IDF (Term Frequency and Inverse Document Frequency)"
      ]
    },
    {
      "cell_type": "markdown",
      "metadata": {
        "id": "GUojlVdz5l8B"
      },
      "source": [
        "## 3.1 Count Vectorizer\n",
        "**CountVectorizer** is a great tool provided by the *scikit-learn* library in Python. It is used to transform a given text into a vector on the basis of the frequency (count) of each word that occurs in the entire text. This is helpful when we have multiple such texts, and we wish to convert each word in each text into vectors (for using in further text analysis).\n",
        "    \n",
        "Let us consider a few sample texts from a document:\n",
        "    \n",
        "    document 1: Time flies flies like an arrow.\n",
        "    document 2: Fruit flies like a banana.\n",
        "\n",
        "    \n",
        "**CountVectorizer** creates a matrix in which each unique word is represented by a column of the matrix, and each text sample from the document is a row in the matrix. The value of each cell is nothing but the count of the word in that particular text sample. "
      ]
    },
    {
      "cell_type": "code",
      "metadata": {
        "colab": {
          "base_uri": "https://localhost:8080/",
          "height": 374
        },
        "id": "KWRkGZOB5l8C",
        "outputId": "4f1755c0-fca5-492c-dc78-2064d3315fd2"
      },
      "source": [
        "document = [\"Time flies flies like an arrow\",\n",
        "            \"Fruit flies like a banana\"]\n",
        "  \n",
        "# Create a Vectorizer Object\n",
        "vectorizer = CountVectorizer()\n",
        "  \n",
        "vectorizer.fit(document)\n",
        "  \n",
        "# Printing the identified Unique words along with their indices\n",
        "print(\"Vocabulary: \", vectorizer.vocabulary_)\n",
        "  \n",
        "# Encode the Document\n",
        "vector = vectorizer.transform(document)\n",
        "  \n",
        "# Summarizing the Encoded Texts\n",
        "print(\"Encoded Document is:\")\n",
        "print(vector.toarray())\n",
        "\n",
        "dictionary = sorted(vectorizer.vocabulary_)\n",
        "\n",
        "print(dictionary)\n",
        "\n",
        "sns.heatmap(vector.toarray(), annot=True, cbar=False, xticklabels=dictionary,\n",
        "                                             yticklabels=['Sentence 1','Sentence 2'])"
      ],
      "execution_count": null,
      "outputs": [
        {
          "name": "stdout",
          "output_type": "stream",
          "text": [
            "Vocabulary:  {'time': 6, 'flies': 3, 'like': 5, 'an': 0, 'arrow': 1, 'fruit': 4, 'banana': 2}\n",
            "Encoded Document is:\n",
            "[[1 1 0 2 0 1 1]\n",
            " [0 0 1 1 1 1 0]]\n",
            "['an', 'arrow', 'banana', 'flies', 'fruit', 'like', 'time']\n"
          ]
        },
        {
          "data": {
            "text/plain": [
              "<AxesSubplot:>"
            ]
          },
          "execution_count": 13,
          "metadata": {},
          "output_type": "execute_result"
        },
        {
          "data": {
            "image/png": "[encoded data removed]",
            "text/plain": [
              "<Figure size 720x360 with 1 Axes>"
            ]
          },
          "metadata": {
            "needs_background": "light"
          },
          "output_type": "display_data"
        }
      ]
    },
    {
      "cell_type": "markdown",
      "metadata": {
        "id": "QkadC25S5l8C"
      },
      "source": [
        "## 3.2 TF-IDF"
      ]
    },
    {
      "cell_type": "markdown",
      "metadata": {
        "id": "2l50NkRh5l8E"
      },
      "source": [
        "### 3.2.1 **Term Frequency (TF)**\n",
        "Term Frequent (**TF**) is a measure of how frequently a term, $t$, appears in a document, $d$:\n",
        "\n",
        "\n",
        "\n",
        "$$TF_{t,d} = \\frac{n_{t,d}}{\\text{Total number of terms in document}\\ d }$$\n",
        "\n",
        "\n",
        "\n",
        "$n_{t,d}$ = Number of times term $t$ appears in a document $d$. Thus, each document and term would have its own **TF** value.\n",
        "\n",
        "Consider these 3 documents:- \n",
        "\n",
        "- It was the best of the time.\n",
        "- it was the worst of Times.\n",
        "- it is the time of stupidity.\n",
        "\n",
        "The vocabulary or dictionary of the entire corpus would be:- \n",
        "\n",
        "1. it\n",
        "2. was\n",
        "3. the \n",
        "4. best\n",
        "5. of\n",
        "6. time\n",
        "7. worst\n",
        "8. is\n",
        "9. stupidity\n",
        "\n",
        "Now we will calculate the **TF** values for the **Document 3**. \n",
        "\n",
        "Document 3 :- **it is the time of stupidity.**\n",
        "\n",
        "- Number of words in Document 3 = **6**\n",
        "- TF for the word **‘the’** = (number of times **‘the’** appears in Document 3) / (number of terms in Document 3) = **1/6**\n",
        "\n",
        "Likewise:- \n",
        "\n",
        "- TF(**'it'**) = 1/6\n",
        "- TF(**'was'**) = 0/6 = 0\n",
        "- TF(**'the'**) = 1/6 \n",
        "- TF(**'best'**) = 0/6 = 0\n",
        "- TF(**'of'**) = 1/6 \n",
        "- TF(**'time'**) = 1/6\n",
        "- TF(**'worst'**) = 0/6 = 0\n",
        "- TF(**'is'**) = 1/6\n",
        "- TF(**'stupidity'**) = 1/6\n",
        "\n",
        "We can calculate all the term frequencies for all the terms of all the documents in this manner:-\n",
        "\n",
        "|    Term   | Document#1 | Document#2 | Document#3 | TF (Document#1) | TF (Document#2) | TF (Document#3) |\n",
        "|:---------:|:----------:|:----------:|:----------:|:---------------:|:---------------:|:---------------:|\n",
        "|     it    |      1     |      1     |      1     |       1/7       |       1/6       |       1/6       |\n",
        "|    was    |      1     |      1     |      0     |       1/7       |       1/6       |        0        |\n",
        "|    the    |      2     |      1     |      1     |       2/7       |       1/6       |       1/6       |\n",
        "|    best   |      1     |      0     |      0     |       1/7       |        0        |        0        |\n",
        "|     of    |      1     |      1     |      1     |       1/7       |       1/6       |       1/6       |\n",
        "|    time   |      1     |      1     |      1     |       1/7       |       1/6       |       1/6       |\n",
        "|   worst   |      0     |      1     |      0     |        0        |       1/6       |        0        |\n",
        "|    is     |      0     |      0     |      1     |        0        |        0        |       1/6       |\n",
        "| stupidity |      0     |      0     |      1     |        0        |        0        |       1/6       |\n",
        "\n",
        "\n",
        "\n",
        "\n"
      ]
    },
    {
      "cell_type": "markdown",
      "metadata": {
        "id": "ZmC1oh1y5l8G"
      },
      "source": [
        "\n",
        "### 3.2.2 **Inverse Document Frequency (IDF)**\n",
        "\n",
        "IDF is a measure of how important a term is. We need the IDF value because computing just the **TF alone is not sufficient** to understand the importance of words:\n",
        "\n",
        "\n",
        "\n",
        "$$IDF_{t} = log \\ (\\frac{\\text{Total Number of Documents}}{\\text{The Number of Documents with Term $t$}})$$\n",
        "\n",
        "\n",
        "\n",
        "A problem with scoring word frequency is that highly frequent words **(‘is’, ‘the’, ‘a’ etc)** start to dominate in the document (e.g. larger score), but may not contain as much **“useful information”** to the model comapre to the rarer but **domain specific words**.\n",
        "\n",
        "\n",
        "One approach is to rescale the frequency of words by **how often they appear in all documents**, so that the scores for frequent words like “the” that are also frequent **across all documents are penalized**.\n",
        "\n",
        "This approach to scoring is called Term Frequency – Inverse Document Frequency, or TF-IDF for short, where:\n",
        "\n",
        "- **Term Frequency:** is a scoring of the frequency of the word in the current document.\n",
        "- **Inverse Document Frequency:** is a scoring of how rare the word is across documents.\n",
        "\n",
        "**Thus the idf of a rare term is high, whereas the idf of a frequent term is likely to be low.**\n",
        "\n",
        "We can calculate the IDF values for **Document 3**:\n",
        "\n",
        "Document 3 :- **it is the time of stupidity.**\n",
        "\n",
        "IDF(**‘it’**) =  log(total number of documents/number of documents containing the word **‘it’**) = log(3/3) = log(1) = 0\n",
        "\n",
        "IDF(**‘stupidity’**) =  log(total number of documents/number of documents containing the word **‘stupidity’**) = log(3/1) = log(3) = 0.48\n",
        "\n",
        "We can calculate the IDF values for each word like this. Thus, the IDF values for the entire vocabulary would be:\n",
        "\n",
        "|    Term   | Document#1 | Document#2 | Document#3 |  IDF |\n",
        "|:---------:|:----------:|:----------:|:----------:|:----:|\n",
        "|     it    |      1     |      1     |      1     | 0.00 |\n",
        "|    was    |      1     |      1     |      0     | 0.18 |\n",
        "|    the    |      2     |      1     |      1     | 0.00 |\n",
        "|    best   |      1     |      0     |      0     | 0.48 |\n",
        "|     of    |      1     |      1     |      1     | 0.00 |\n",
        "|    time   |      1     |      1     |      1     | 0.00 |\n",
        "|   worst   |      0     |      1     |      0     | 0.48 |\n",
        "|    is     |      0     |      0     |      1     | 0.48 |\n",
        "| stupidity |      0     |      0     |      1     | 0.48 |\n",
        "\n",
        "\\\n",
        "\n",
        "We can now compute the TF-IDF score for each word in the corpus. Words with a higher score are more important, and those with a lower score are less important:\n",
        "\n",
        "$$(TF-IDF)_{t,d} = TF_{t,d} * IDF_{t}$$\n",
        "\n",
        "\n",
        "You can find the overall summary in the following figure.\n",
        "\n",
        "<div align=\"center\">\n",
        "<img src=\"https://drive.google.com/uc?id=1Xw5RlK_RxYtZEQtpFNaePXnJNyQmLcn1\" width=\"680\" height=\"230\">\n",
        "</div>\n",
        "\n",
        "\n",
        "\n",
        "We can now calculate the TF-IDF score for every word in **Document 3**:\n",
        "\n",
        "Document 3 :- **it is the time of stupidity.**\n",
        "\n",
        "TF-IDF(‘it’, Document 3) = TF(‘it’, Document 3) * IDF(‘it’) = 1/6 * 0 = 0\n",
        "\n",
        "Likewise:- \n",
        "\n",
        "- TF(**'it'**) = (1/6) * 0 = 0\n",
        "- TF(**'is'**) = (1/6) * 0.48 = 0.08\n",
        "- TF(**'the'**) = (1/6) * 0 = 0\n",
        "- TF(**'best'**) = (0/6) * 0.48 = 0\n",
        "- TF(**'time'**) = (1/6) * 0 = 0\n",
        "- TF(**'of'**) = (1/6) * 0 = 0\n",
        "- TF(**'stupidity'**) = (1/6) * 0.48 = 0.08\n",
        "\n",
        "Similarly, we can calculate the TF-IDF scores for all the words with respect to all the documents.\n",
        "\n",
        "- First, notice how if there is a very common\n",
        "word that occurs in all documents (i.e., n = N), IDF(w) is 0 and the TF­IDF score is 0, thereby\n",
        "completely penalizing that term. \n",
        "- Second, if a term occurs very rarely, perhaps in only one document,\n",
        "the IDF will be the maximum possible value, log N\n"
      ]
    },
    {
      "cell_type": "code",
      "metadata": {
        "colab": {
          "base_uri": "https://localhost:8080/",
          "height": 392
        },
        "id": "BCCUG0ok5l8I",
        "outputId": "a795ba88-5d3b-4bb9-ff55-dc16208590ee"
      },
      "source": [
        "from sklearn.feature_extraction.text import TfidfVectorizer\n",
        "\n",
        "document = ['Time flies flies like an arrow.',\n",
        "          'Fruit flies like a banana.']\n",
        "\n",
        "tfidf_vectorizer = TfidfVectorizer()\n",
        "tfidf = tfidf_vectorizer.fit_transform(document).toarray()\n",
        "\n",
        "print (tfidf)\n",
        "\n",
        "print (tfidf_vectorizer.vocabulary_)\n",
        "\n",
        "dictionary = sorted(tfidf_vectorizer.vocabulary_)\n",
        "\n",
        "print(dictionary)\n",
        "\n",
        "sns.heatmap(tfidf, annot=True, cbar=False, xticklabels=dictionary,\n",
        "                                           yticklabels=['Sentence 1','Sentence 2'])"
      ],
      "execution_count": null,
      "outputs": [
        {
          "name": "stdout",
          "output_type": "stream",
          "text": [
            "[[0.42519636 0.42519636 0.         0.60506143 0.         0.30253071\n",
            "  0.42519636]\n",
            " [0.         0.         0.57615236 0.40993715 0.57615236 0.40993715\n",
            "  0.        ]]\n",
            "{'time': 6, 'flies': 3, 'like': 5, 'an': 0, 'arrow': 1, 'fruit': 4, 'banana': 2}\n",
            "['an', 'arrow', 'banana', 'flies', 'fruit', 'like', 'time']\n"
          ]
        },
        {
          "data": {
            "text/plain": [
              "<AxesSubplot:>"
            ]
          },
          "execution_count": 14,
          "metadata": {},
          "output_type": "execute_result"
        },
        {
          "data": {
            "image/png": "[encoded data removed]",
            "text/plain": [
              "<Figure size 720x360 with 1 Axes>"
            ]
          },
          "metadata": {
            "needs_background": "light"
          },
          "output_type": "display_data"
        }
      ]
    },
    {
      "cell_type": "markdown",
      "metadata": {
        "id": "h7HeIz1q5l8J"
      },
      "source": [
        "### Applying Feature Extraction in tweet dataset"
      ]
    },
    {
      "cell_type": "markdown",
      "metadata": {
        "id": "uTr59hyn5l8K"
      },
      "source": [
        "#### Train Test Split (70-30)"
      ]
    },
    {
      "cell_type": "code",
      "metadata": {
        "id": "3gPnp2OD5l8L"
      },
      "source": [
        "X_train, X_test, y_train, y_test = train_test_split(df['content'], df['sentiment'],test_size=0.3, random_state = 0)"
      ],
      "execution_count": null,
      "outputs": []
    },
    {
      "cell_type": "code",
      "metadata": {
        "id": "ufASzASS5l8L"
      },
      "source": [
        "countVectorizer1 = CountVectorizer(analyzer=clean_text)\n",
        "countVector1 = countVectorizer1.fit_transform(X_train)\n",
        "\n",
        "countVector2 = countVectorizer1.transform(X_test)\n",
        "\n",
        "tfidf_transformer_xtrain = TfidfTransformer()\n",
        "x_train = tfidf_transformer_xtrain.fit_transform(countVector1)\n",
        "\n",
        "tfidf_transformer_xtest = TfidfTransformer()\n",
        "x_test = tfidf_transformer_xtest.fit_transform(countVector2)"
      ],
      "execution_count": null,
      "outputs": []
    },
    {
      "cell_type": "markdown",
      "metadata": {
        "id": "63DzkBpe5l8L"
      },
      "source": [
        "# 4. Models\n",
        "1. Support Vector Machine (SVM)\n",
        "2. Logistic Regression\n",
        "3. Random Forest Classifier\n",
        "4. XGBoost Classifier\n",
        "5. Multinomial Naive Bayes\n",
        "6. Decision Tree Classifier\n",
        "\n"
      ]
    },
    {
      "cell_type": "markdown",
      "metadata": {
        "id": "_2b2q-PXNb6i"
      },
      "source": [
        "**Performance Matrix :**\n",
        "1.   **Accuracy** = $\\frac{\\text{TP+TN}}{\\text{TP+TN+FP+FN}}$\n",
        "2.   **Precision** = $\\frac{\\text{TP}}{\\text{TP+FP}}$ \n",
        "3.   **Recall** = $\\frac{\\text{TP}}{\\text{TP+FN}}$ \n",
        "4.   **F1-score** = $\\frac{\\text{2*Precision*Recall}}{\\text{Precision+Recall}}$ "
      ]
    },
    {
      "cell_type": "markdown",
      "metadata": {
        "id": "sdfTn5X35l8N"
      },
      "source": [
        "## 4.1 Support Vector Machine (SVM)"
      ]
    },
    {
      "cell_type": "code",
      "metadata": {
        "colab": {
          "base_uri": "https://localhost:8080/"
        },
        "id": "zfaBVxA65l8O",
        "outputId": "97694893-1083-4bf0-d6cd-119c1cfa1e8a"
      },
      "source": [
        "svm = SGDClassifier()\n",
        "svm.fit(x_train, y_train)\n",
        "\n",
        "y_pred = svm.predict(x_test)\n",
        "\n",
        "svm_acc = accuracy_score(y_pred, y_test)\n",
        "svm_prec = precision_score(y_test, y_pred, average='macro')\n",
        "svm_recal = recall_score(y_test, y_pred, average='macro')\n",
        "svm_cm = confusion_matrix(y_test,y_pred)\n",
        "svm_f1 = f1_score(y_test, y_pred, average='macro')\n",
        "\n",
        "print('Accuracy:', '{0:.3f}'.format(svm_acc*100))\n",
        "print('Precision:', '{0:.3f}'.format(svm_prec*100))\n",
        "print('Recall:', '{0:.3f}'.format(svm_recal*100))\n",
        "print('F1-score:', '{0:.3f}'.format(svm_f1*100))\n",
        "print(classification_report(y_test,y_pred))"
      ],
      "execution_count": null,
      "outputs": [
        {
          "name": "stdout",
          "output_type": "stream",
          "text": [
            "Accuracy: 89.600\n",
            "Precision: 88.431\n",
            "Recall: 83.540\n",
            "F1-score: 85.675\n",
            "              precision    recall  f1-score   support\n",
            "\n",
            "       anger       0.90      0.86      0.88       828\n",
            "        fear       0.88      0.84      0.86       741\n",
            "         joy       0.89      0.94      0.92      2019\n",
            "        love       0.84      0.76      0.80       484\n",
            "     sadness       0.92      0.95      0.93      1715\n",
            "    surprise       0.87      0.66      0.75       213\n",
            "\n",
            "    accuracy                           0.90      6000\n",
            "   macro avg       0.88      0.84      0.86      6000\n",
            "weighted avg       0.90      0.90      0.89      6000\n",
            "\n"
          ]
        }
      ]
    },
    {
      "cell_type": "markdown",
      "metadata": {
        "id": "KO9yJPbQNb6m"
      },
      "source": [
        "### 4.1.1 Confusion Matrix"
      ]
    },
    {
      "cell_type": "code",
      "metadata": {
        "scrolled": false,
        "id": "11T7BTC5Nb6n",
        "outputId": "22b950ce-f43b-4cb1-d04f-a0ef366371ba"
      },
      "source": [
        "cm_display_svm = ConfusionMatrixDisplay(svm_cm, display_labels=svm.classes_)\n",
        "fig, ax = plt.subplots(figsize=(8,8)) # adjust the size\n",
        "cm_display_svm.plot(ax=ax,cmap='Blues')"
      ],
      "execution_count": null,
      "outputs": [
        {
          "data": {
            "text/plain": [
              "<sklearn.metrics._plot.confusion_matrix.ConfusionMatrixDisplay at 0x1a6de68ec70>"
            ]
          },
          "execution_count": 18,
          "metadata": {},
          "output_type": "execute_result"
        },
        {
          "data": {
            "image/png": "[encoded data removed]",
            "text/plain": [
              "<Figure size 576x576 with 2 Axes>"
            ]
          },
          "metadata": {
            "needs_background": "light"
          },
          "output_type": "display_data"
        }
      ]
    },
    {
      "cell_type": "markdown",
      "metadata": {
        "id": "HhyX76VB5l8U"
      },
      "source": [
        "## 4.2 Logistic Regression"
      ]
    },
    {
      "cell_type": "code",
      "metadata": {
        "colab": {
          "base_uri": "https://localhost:8080/"
        },
        "id": "2T0Lh2kT5l8X",
        "outputId": "4b0cdcda-59db-4089-dff0-c701a880d6a7"
      },
      "source": [
        "logisticRegr = LogisticRegression()\n",
        "\n",
        "logisticRegr.fit(x_train, y_train)\n",
        "\n",
        "y_pred = logisticRegr.predict(x_test)\n",
        "\n",
        "lr_acc = accuracy_score(y_pred, y_test)\n",
        "lr_prec = precision_score(y_test, y_pred, average='macro')\n",
        "lr_recal = recall_score(y_test, y_pred, average='macro')\n",
        "lr_cm = confusion_matrix(y_test,y_pred)\n",
        "lr_f1 = f1_score(y_test, y_pred, average='macro')\n",
        "\n",
        "print('Accuracy:', '{0:.3f}'.format(lr_acc*100))\n",
        "print('Precision:', '{0:.3f}'.format(lr_prec*100))\n",
        "print('Recall:', '{0:.3f}'.format(lr_recal*100))\n",
        "print('F1-score:', '{0:.3f}'.format(lr_f1*100))\n",
        "print(classification_report(y_test,y_pred))"
      ],
      "execution_count": null,
      "outputs": [
        {
          "name": "stdout",
          "output_type": "stream",
          "text": [
            "Accuracy: 86.200\n",
            "Precision: 88.072\n",
            "Recall: 76.612\n",
            "F1-score: 80.847\n",
            "              precision    recall  f1-score   support\n",
            "\n",
            "       anger       0.91      0.78      0.84       828\n",
            "        fear       0.87      0.77      0.82       741\n",
            "         joy       0.82      0.95      0.88      2019\n",
            "        love       0.86      0.63      0.73       484\n",
            "     sadness       0.88      0.94      0.91      1715\n",
            "    surprise       0.93      0.52      0.67       213\n",
            "\n",
            "    accuracy                           0.86      6000\n",
            "   macro avg       0.88      0.77      0.81      6000\n",
            "weighted avg       0.87      0.86      0.86      6000\n",
            "\n"
          ]
        }
      ]
    },
    {
      "cell_type": "markdown",
      "metadata": {
        "id": "7PZtMD-8Nb6q"
      },
      "source": [
        "### 4.2.1 Confusion Matrix"
      ]
    },
    {
      "cell_type": "code",
      "metadata": {
        "id": "ZbDQDZqGNb6q",
        "outputId": "9493c9ee-3047-49c0-b783-d67d14e50b02"
      },
      "source": [
        "cm_display_lr = ConfusionMatrixDisplay(lr_cm, display_labels=logisticRegr.classes_)\n",
        "fig, ax = plt.subplots(figsize=(8,8)) # adjust the size\n",
        "cm_display_lr.plot(ax=ax,cmap='PuRd')"
      ],
      "execution_count": null,
      "outputs": [
        {
          "data": {
            "text/plain": [
              "<sklearn.metrics._plot.confusion_matrix.ConfusionMatrixDisplay at 0x1a6de90bbb0>"
            ]
          },
          "execution_count": 20,
          "metadata": {},
          "output_type": "execute_result"
        },
        {
          "data": {
            "image/png": "[encoded data removed]",
            "text/plain": [
              "<Figure size 576x576 with 2 Axes>"
            ]
          },
          "metadata": {
            "needs_background": "light"
          },
          "output_type": "display_data"
        }
      ]
    },
    {
      "cell_type": "markdown",
      "metadata": {
        "id": "xKUhP0005l8S"
      },
      "source": [
        "## 4.3 Random Forest Classifier\n",
        "\n",
        "random forest builds multiple decision trees and merges them together to get a more accurate and stable prediction.\n",
        "\n",
        "**Hyperparametes:**\n",
        "\n",
        "**Increasing the predictive power**\n",
        "\n",
        "Firstly, there is the **n_estimators** hyperparameter, which is just the number of trees the algorithm builds before taking the maximum voting or taking the averages of predictions. In general, a higher number of trees increases the performance and makes the predictions more stable, but it also slows down the computation.\n",
        "\n",
        "Another important hyperparameter is **max_features**, which is the maximum number of features random forest considers to split a node. Sklearn provides several options, all described in the documentation.\n",
        "\n",
        "The last important hyperparameter is **min_sample_leaf**. This determines the minimum number of leafs required to split an internal node.\n",
        "\n",
        "[click for more](https://builtin.com/data-science/random-forest-algorithm)"
      ]
    },
    {
      "cell_type": "code",
      "metadata": {
        "colab": {
          "base_uri": "https://localhost:8080/"
        },
        "id": "-jHcOeCEdubi",
        "outputId": "77fb0083-769e-41af-a4be-b7add6988faf"
      },
      "source": [
        "rfc = RandomForestClassifier(n_estimators=1, random_state=0)\n",
        "\n",
        "rfc.fit(x_train, y_train)\n",
        "\n",
        "y_pred = rfc.predict(x_test)\n",
        "\n",
        "rfc_acc = accuracy_score(y_pred, y_test)\n",
        "rfc_prec = precision_score(y_test, y_pred, average='macro')\n",
        "rfc_recal = recall_score(y_test, y_pred, average='macro')\n",
        "rfc_cm = confusion_matrix(y_test,y_pred)\n",
        "rfc_f1 = f1_score(y_test, y_pred, average='macro')\n",
        "\n",
        "print('Accuracy:', '{0:.3f}'.format(rfc_acc*100))\n",
        "print('Precision:', '{0:.3f}'.format(rfc_prec*100))\n",
        "print('Recall:', '{0:.3f}'.format(rfc_recal*100))\n",
        "print('F1-score:', '{0:.3f}'.format(rfc_f1*100))\n",
        "print(classification_report(y_test,y_pred))"
      ],
      "execution_count": null,
      "outputs": [
        {
          "name": "stdout",
          "output_type": "stream",
          "text": [
            "Accuracy: 78.750\n",
            "Precision: 77.836\n",
            "Recall: 74.240\n",
            "F1-score: 75.805\n",
            "              precision    recall  f1-score   support\n",
            "\n",
            "       anger       0.78      0.77      0.77       828\n",
            "        fear       0.75      0.73      0.74       741\n",
            "         joy       0.81      0.84      0.83      2019\n",
            "        love       0.77      0.60      0.67       484\n",
            "     sadness       0.78      0.82      0.80      1715\n",
            "    surprise       0.78      0.69      0.73       213\n",
            "\n",
            "    accuracy                           0.79      6000\n",
            "   macro avg       0.78      0.74      0.76      6000\n",
            "weighted avg       0.79      0.79      0.79      6000\n",
            "\n"
          ]
        }
      ]
    },
    {
      "cell_type": "markdown",
      "metadata": {
        "id": "AmdLA-6ENb6u"
      },
      "source": [
        "### 4.3.1 Confusion Matrix"
      ]
    },
    {
      "cell_type": "code",
      "metadata": {
        "id": "Zz67XzYrNb6u",
        "outputId": "a650bfab-ed81-49e1-dad2-f7f12972dd38"
      },
      "source": [
        "cm_display_rfc = ConfusionMatrixDisplay(rfc_cm, display_labels=rfc.classes_)\n",
        "fig, ax = plt.subplots(figsize=(8,8)) # adjust the size\n",
        "cm_display_rfc.plot(ax=ax,cmap='hot_r')"
      ],
      "execution_count": null,
      "outputs": [
        {
          "data": {
            "text/plain": [
              "<sklearn.metrics._plot.confusion_matrix.ConfusionMatrixDisplay at 0x1a6dedeed30>"
            ]
          },
          "execution_count": 22,
          "metadata": {},
          "output_type": "execute_result"
        },
        {
          "data": {
            "image/png": "[encoded data removed]",
            "text/plain": [
              "<Figure size 576x576 with 2 Axes>"
            ]
          },
          "metadata": {
            "needs_background": "light"
          },
          "output_type": "display_data"
        }
      ]
    },
    {
      "cell_type": "markdown",
      "metadata": {
        "id": "U6CVr8YU5l8Q"
      },
      "source": [
        "## 4.4 XGBoost Classifier\n",
        "\n",
        "**XGBoost** is a decision-tree-based ensemble Machine Learning algorithm that uses a *gradient boosting framework*. In prediction problems involving unstructured data (images, text, etc.) artificial neural networks tend to outperform all other algorithms or frameworks. However, when it comes to small-to-medium structured/tabular data, decision tree based algorithms are considered best-in-class right now.\n",
        "\n",
        "\n",
        "**Why does XGBoost perform so well?**\n",
        "\n",
        "> XGBoost and Gradient Boosting Machines (GBMs) are both ensemble tree methods that apply the principle of boosting weak learners (CARTs generally) using the gradient descent architecture. However, XGBoost improves upon the base GBM framework through systems optimization and algorithmic enhancements.\n",
        "\n",
        "\n",
        "[Click for more details](https://towardsdatascience.com/https-medium-com-vishalmorde-xgboost-algorithm-long-she-may-rein-edd9f99be63d)"
      ]
    },
    {
      "cell_type": "code",
      "metadata": {
        "colab": {
          "base_uri": "https://localhost:8080/"
        },
        "id": "hSi6lY4s5l8R",
        "outputId": "ea596d5d-151e-4f15-ff95-f1a0c8cbe07b"
      },
      "source": [
        "xgbc = XGBClassifier(max_depth=16, n_estimators=1000,nthread = 6)\n",
        "xgbc.fit(x_train,y_train)\n",
        "y_pred = xgbc.predict(x_test)\n",
        "\n",
        "xgbc_acc = accuracy_score(y_pred, y_test)\n",
        "xgbc_prec = precision_score(y_test, y_pred, average='macro')\n",
        "xgbc_recal = recall_score(y_test, y_pred, average='macro')\n",
        "xgbc_cm = confusion_matrix(y_test,y_pred)\n",
        "xgbc_f1 = f1_score(y_test, y_pred, average='macro')\n",
        "\n",
        "print('Accuracy:', '{0:.3f}'.format(xgbc_acc*100))\n",
        "print('Precision:', '{0:.3f}'.format(xgbc_prec*100))\n",
        "print('Recall:', '{0:.3f}'.format(xgbc_recal*100))\n",
        "print('F1-score:', '{0:.3f}'.format(xgbc_f1*100))\n",
        "print(classification_report(y_test,y_pred))"
      ],
      "execution_count": null,
      "outputs": [
        {
          "name": "stdout",
          "output_type": "stream",
          "text": [
            "[22:33:31] WARNING: C:/Users/Administrator/workspace/xgboost-win64_release_1.4.0/src/learner.cc:1095: Starting in XGBoost 1.3.0, the default evaluation metric used with the objective 'multi:softprob' was changed from 'merror' to 'mlogloss'. Explicitly set eval_metric if you'd like to restore the old behavior.\n",
            "Accuracy: 88.833\n",
            "Precision: 85.796\n",
            "Recall: 85.048\n",
            "F1-score: 85.386\n",
            "              precision    recall  f1-score   support\n",
            "\n",
            "       anger       0.90      0.85      0.87       828\n",
            "        fear       0.87      0.83      0.85       741\n",
            "         joy       0.89      0.93      0.91      2019\n",
            "        love       0.81      0.79      0.79       484\n",
            "     sadness       0.93      0.93      0.93      1715\n",
            "    surprise       0.75      0.78      0.77       213\n",
            "\n",
            "    accuracy                           0.89      6000\n",
            "   macro avg       0.86      0.85      0.85      6000\n",
            "weighted avg       0.89      0.89      0.89      6000\n",
            "\n"
          ]
        }
      ]
    },
    {
      "cell_type": "markdown",
      "metadata": {
        "id": "qNkqGeLSNb6y"
      },
      "source": [
        "### 4.4.1 Confusion Matrix"
      ]
    },
    {
      "cell_type": "code",
      "metadata": {
        "id": "7bDEkjufNb6z",
        "outputId": "e3701a10-e8d0-4b2a-d0c1-0eb5eaa23bf9"
      },
      "source": [
        "cm_display_xgbc = ConfusionMatrixDisplay(xgbc_cm, display_labels=xgbc.classes_)\n",
        "_, ax = plt.subplots(figsize=(8,8)) # adjust the size\n",
        "cm_display_xgbc.plot(ax=ax,cmap='Purples')"
      ],
      "execution_count": null,
      "outputs": [
        {
          "data": {
            "text/plain": [
              "<sklearn.metrics._plot.confusion_matrix.ConfusionMatrixDisplay at 0x1a6d84faa60>"
            ]
          },
          "execution_count": 24,
          "metadata": {},
          "output_type": "execute_result"
        },
        {
          "data": {
            "image/png": "[encoded data removed]",
            "text/plain": [
              "<Figure size 576x576 with 2 Axes>"
            ]
          },
          "metadata": {
            "needs_background": "light"
          },
          "output_type": "display_data"
        }
      ]
    },
    {
      "cell_type": "markdown",
      "metadata": {
        "id": "N1vJ2HuI5l8c"
      },
      "source": [
        "## 4.5 Multinomial Naive Bayes Classifier"
      ]
    },
    {
      "cell_type": "code",
      "metadata": {
        "colab": {
          "base_uri": "https://localhost:8080/"
        },
        "id": "70azzMd55l8e",
        "outputId": "dcaeff1a-23d2-4d94-d483-9221a4b38d84"
      },
      "source": [
        "mnb = MultinomialNB()\n",
        "mnb.fit(x_train, y_train)\n",
        "\n",
        "y_pred = mnb.predict(x_test)\n",
        "\n",
        "mnb_acc = accuracy_score(y_pred, y_test)\n",
        "mnb_prec = precision_score(y_test, y_pred, average='macro')\n",
        "mnb_recal = recall_score(y_test, y_pred, average='macro')\n",
        "mnb_cm = confusion_matrix(y_test,y_pred)\n",
        "mnb_f1 = f1_score(y_test, y_pred, average='macro')\n",
        "\n",
        "print('Accuracy:', '{0:.3f}'.format(mnb_acc*100))\n",
        "print('Precision:', '{0:.3f}'.format(mnb_prec*100))\n",
        "print('Recall:', '{0:.3f}'.format(mnb_recal*100))\n",
        "print('F1-score:', '{0:.3f}'.format(mnb_f1*100))\n",
        "print(classification_report(y_test,y_pred))"
      ],
      "execution_count": null,
      "outputs": [
        {
          "name": "stdout",
          "output_type": "stream",
          "text": [
            "Accuracy: 67.633\n",
            "Precision: 85.565\n",
            "Recall: 43.058\n",
            "F1-score: 43.572\n",
            "              precision    recall  f1-score   support\n",
            "\n",
            "       anger       0.95      0.34      0.50       828\n",
            "        fear       0.88      0.26      0.40       741\n",
            "         joy       0.63      0.97      0.77      2019\n",
            "        love       1.00      0.07      0.13       484\n",
            "     sadness       0.67      0.93      0.78      1715\n",
            "    surprise       1.00      0.02      0.04       213\n",
            "\n",
            "    accuracy                           0.68      6000\n",
            "   macro avg       0.86      0.43      0.44      6000\n",
            "weighted avg       0.76      0.68      0.61      6000\n",
            "\n"
          ]
        }
      ]
    },
    {
      "cell_type": "markdown",
      "metadata": {
        "id": "woG5FNY5Nb62"
      },
      "source": [
        "### 4.5.1 Confusion Matrix"
      ]
    },
    {
      "cell_type": "code",
      "metadata": {
        "id": "itzNeGR4Nb63",
        "outputId": "20e9ea77-136c-46c5-ff5c-a78eedcd9f37"
      },
      "source": [
        "cm_display_mnb = ConfusionMatrixDisplay(mnb_cm, display_labels=mnb.classes_)\n",
        "fig, ax = plt.subplots(figsize=(8,8)) # adjust the size\n",
        "cm_display_mnb.plot(ax=ax,cmap='Reds')"
      ],
      "execution_count": null,
      "outputs": [
        {
          "data": {
            "text/plain": [
              "<sklearn.metrics._plot.confusion_matrix.ConfusionMatrixDisplay at 0x1a6de89ee80>"
            ]
          },
          "execution_count": 26,
          "metadata": {},
          "output_type": "execute_result"
        },
        {
          "data": {
            "image/png": "[encoded data removed]",
            "text/plain": [
              "<Figure size 576x576 with 2 Axes>"
            ]
          },
          "metadata": {
            "needs_background": "light"
          },
          "output_type": "display_data"
        }
      ]
    },
    {
      "cell_type": "markdown",
      "metadata": {
        "id": "b0Gsz3AJ5l8h"
      },
      "source": [
        "## 4.6 Decision Tree Classifier"
      ]
    },
    {
      "cell_type": "code",
      "metadata": {
        "colab": {
          "base_uri": "https://localhost:8080/"
        },
        "id": "rTslzT_h5l8h",
        "scrolled": true,
        "outputId": "969ef7db-a4c9-432f-9b7a-7b4260bb5e04"
      },
      "source": [
        "dt = tree.DecisionTreeClassifier()\n",
        "dt.fit(x_train, y_train)\n",
        "y_pred = dt.predict(x_test)\n",
        "\n",
        "\n",
        "dt_acc = accuracy_score(y_pred, y_test)\n",
        "dt_prec = precision_score(y_test, y_pred, average='macro')\n",
        "dt_recal = recall_score(y_test, y_pred, average='macro')\n",
        "dt_cm = confusion_matrix(y_test,y_pred)\n",
        "dt_f1 = f1_score(y_test, y_pred, average='macro')\n",
        "\n",
        "print('Accuracy:', '{0:.3f}'.format(dt_acc*100))\n",
        "print('Precision:', '{0:.3f}'.format(dt_prec*100))\n",
        "print('Recall:', '{0:.3f}'.format(dt_recal*100))\n",
        "print('F1-score:', '{0:.3f}'.format(dt_f1*100))\n",
        "print(classification_report(y_test,y_pred))"
      ],
      "execution_count": null,
      "outputs": [
        {
          "name": "stdout",
          "output_type": "stream",
          "text": [
            "Accuracy: 86.683\n",
            "Precision: 82.902\n",
            "Recall: 84.045\n",
            "F1-score: 83.434\n",
            "              precision    recall  f1-score   support\n",
            "\n",
            "       anger       0.88      0.85      0.86       828\n",
            "        fear       0.83      0.84      0.83       741\n",
            "         joy       0.91      0.87      0.89      2019\n",
            "        love       0.76      0.81      0.79       484\n",
            "     sadness       0.88      0.91      0.90      1715\n",
            "    surprise       0.72      0.76      0.74       213\n",
            "\n",
            "    accuracy                           0.87      6000\n",
            "   macro avg       0.83      0.84      0.83      6000\n",
            "weighted avg       0.87      0.87      0.87      6000\n",
            "\n"
          ]
        }
      ]
    },
    {
      "cell_type": "markdown",
      "metadata": {
        "id": "Kl1dMwmSNb65"
      },
      "source": [
        "### 4.6.1 Confusion Matrix"
      ]
    },
    {
      "cell_type": "code",
      "metadata": {
        "id": "mlLYEX5bNb65",
        "outputId": "93a42504-5cbf-4264-c0e8-66afba915a50"
      },
      "source": [
        "cm_display_dt = ConfusionMatrixDisplay(dt_cm, display_labels=dt.classes_)\n",
        "fig, ax = plt.subplots(figsize=(8,8)) # adjust the size\n",
        "cm_display_dt.plot(ax=ax,cmap='Greens')"
      ],
      "execution_count": null,
      "outputs": [
        {
          "data": {
            "text/plain": [
              "<sklearn.metrics._plot.confusion_matrix.ConfusionMatrixDisplay at 0x1a6dea010a0>"
            ]
          },
          "execution_count": 28,
          "metadata": {},
          "output_type": "execute_result"
        },
        {
          "data": {
            "image/png": "[encoded data removed]",
            "text/plain": [
              "<Figure size 576x576 with 2 Axes>"
            ]
          },
          "metadata": {
            "needs_background": "light"
          },
          "output_type": "display_data"
        }
      ]
    },
    {
      "cell_type": "markdown",
      "metadata": {
        "id": "T6tZvhLtNb65"
      },
      "source": [
        "# 5. Summary Visualization"
      ]
    },
    {
      "cell_type": "code",
      "metadata": {
        "id": "5DGTk167Nb66"
      },
      "source": [
        "def get_prec_recall_per_emotion(cm):\n",
        "    per_emotion_precision = []\n",
        "    for i in range(len(cm)):\n",
        "        count_per_emotion,accurate = 0,0\n",
        "        for j in range(len(cm)):\n",
        "            if i == j:\n",
        "                accurate = cm[j][i]\n",
        "            count_per_emotion += cm[j][i]\n",
        "        per_emotion_precision.append(round((accurate/count_per_emotion)*100,3))\n",
        "        \n",
        "    per_emotion_recall = []\n",
        "    for i in range(len(cm)):\n",
        "        count_per_emotion,accurate = 0,0\n",
        "        for j in range(len(cm)):\n",
        "            if i == j:\n",
        "                accurate = cm[i][j]\n",
        "            count_per_emotion += cm[i][j]\n",
        "        per_emotion_recall.append(round((accurate/count_per_emotion)*100,3))\n",
        "        \n",
        "    return per_emotion_precision, per_emotion_recall"
      ],
      "execution_count": null,
      "outputs": []
    },
    {
      "cell_type": "markdown",
      "metadata": {
        "id": "17nk5J1sNb67"
      },
      "source": [
        "## 5.1 - Precision of all models"
      ]
    },
    {
      "cell_type": "code",
      "metadata": {
        "scrolled": true,
        "id": "8cTKzU_zNb68",
        "outputId": "50bea3ba-449a-44c9-9058-b8afbea385ba"
      },
      "source": [
        "svm_per_prec,svm_per_recall = get_prec_recall_per_emotion(svm_cm)\n",
        "lr_per_prec,lr_per_recall = get_prec_recall_per_emotion(lr_cm)\n",
        "rfc_per_prec,rfc_per_recall = get_prec_recall_per_emotion(rfc_cm)\n",
        "xgbc_per_prec,xgbc_per_recall = get_prec_recall_per_emotion(xgbc_cm)\n",
        "mnb_per_prec,mnb_per_recall = get_prec_recall_per_emotion(mnb_cm)\n",
        "dt_per_prec,dt_per_recall = get_prec_recall_per_emotion(dt_cm)\n",
        "\n",
        "per_precision_list = pd.DataFrame({'Support vector Machine' : svm_per_prec,\n",
        "                                'Logistic Regression' : lr_per_prec,\n",
        "                                'Random Forest' : rfc_per_prec,\n",
        "                                'XGBoost' : xgbc_per_prec,\n",
        "                                'Naive Bayes' : mnb_per_prec,\n",
        "                                'Decision Tree' : dt_per_prec}, \n",
        "                                index=svm.classes_)\n",
        "per_precision_list"
      ],
      "execution_count": null,
      "outputs": [
        {
          "data": {
            "text/html": [
              "<div>\n",
              "<style scoped>\n",
              "    .dataframe tbody tr th:only-of-type {\n",
              "        vertical-align: middle;\n",
              "    }\n",
              "\n",
              "    .dataframe tbody tr th {\n",
              "        vertical-align: top;\n",
              "    }\n",
              "\n",
              "    .dataframe thead th {\n",
              "        text-align: right;\n",
              "    }\n",
              "</style>\n",
              "<table border=\"1\" class=\"dataframe\">\n",
              "  <thead>\n",
              "    <tr style=\"text-align: right;\">\n",
              "      <th></th>\n",
              "      <th>Support vector Machine</th>\n",
              "      <th>Logistic Regression</th>\n",
              "      <th>Random Forest</th>\n",
              "      <th>XGBoost</th>\n",
              "      <th>Naive Bayes</th>\n",
              "      <th>Decision Tree</th>\n",
              "    </tr>\n",
              "  </thead>\n",
              "  <tbody>\n",
              "    <tr>\n",
              "      <th>anger</th>\n",
              "      <td>90.549</td>\n",
              "      <td>90.704</td>\n",
              "      <td>77.675</td>\n",
              "      <td>90.372</td>\n",
              "      <td>94.649</td>\n",
              "      <td>88.265</td>\n",
              "    </tr>\n",
              "    <tr>\n",
              "      <th>fear</th>\n",
              "      <td>88.494</td>\n",
              "      <td>87.404</td>\n",
              "      <td>75.882</td>\n",
              "      <td>87.819</td>\n",
              "      <td>87.963</td>\n",
              "      <td>83.641</td>\n",
              "    </tr>\n",
              "    <tr>\n",
              "      <th>joy</th>\n",
              "      <td>88.832</td>\n",
              "      <td>82.406</td>\n",
              "      <td>78.812</td>\n",
              "      <td>89.451</td>\n",
              "      <td>63.378</td>\n",
              "      <td>90.984</td>\n",
              "    </tr>\n",
              "    <tr>\n",
              "      <th>love</th>\n",
              "      <td>84.028</td>\n",
              "      <td>86.197</td>\n",
              "      <td>68.269</td>\n",
              "      <td>79.832</td>\n",
              "      <td>100.000</td>\n",
              "      <td>75.337</td>\n",
              "    </tr>\n",
              "    <tr>\n",
              "      <th>sadness</th>\n",
              "      <td>91.619</td>\n",
              "      <td>88.403</td>\n",
              "      <td>74.973</td>\n",
              "      <td>92.857</td>\n",
              "      <td>67.402</td>\n",
              "      <td>88.560</td>\n",
              "    </tr>\n",
              "    <tr>\n",
              "      <th>surprise</th>\n",
              "      <td>86.145</td>\n",
              "      <td>93.333</td>\n",
              "      <td>70.952</td>\n",
              "      <td>76.126</td>\n",
              "      <td>100.000</td>\n",
              "      <td>70.213</td>\n",
              "    </tr>\n",
              "  </tbody>\n",
              "</table>\n",
              "</div>"
            ],
            "text/plain": [
              "          Support vector Machine  Logistic Regression  Random Forest  XGBoost  \\\n",
              "anger                     90.549               90.704         77.675   90.372   \n",
              "fear                      88.494               87.404         75.882   87.819   \n",
              "joy                       88.832               82.406         78.812   89.451   \n",
              "love                      84.028               86.197         68.269   79.832   \n",
              "sadness                   91.619               88.403         74.973   92.857   \n",
              "surprise                  86.145               93.333         70.952   76.126   \n",
              "\n",
              "          Naive Bayes  Decision Tree  \n",
              "anger          94.649         88.265  \n",
              "fear           87.963         83.641  \n",
              "joy            63.378         90.984  \n",
              "love          100.000         75.337  \n",
              "sadness        67.402         88.560  \n",
              "surprise      100.000         70.213  "
            ]
          },
          "execution_count": 30,
          "metadata": {},
          "output_type": "execute_result"
        }
      ]
    },
    {
      "cell_type": "markdown",
      "metadata": {
        "id": "Te9JhocCNb69"
      },
      "source": [
        "## 5.2 - Recall of all models"
      ]
    },
    {
      "cell_type": "code",
      "metadata": {
        "scrolled": true,
        "id": "WJptGh_vNb69",
        "outputId": "ad82c7bf-f9a1-43ed-d6c5-6312aba07a2f"
      },
      "source": [
        "per_recall_list = pd.DataFrame({'Support vector Machine' : svm_per_recall,\n",
        "                                'Logistic Regression' : lr_per_recall,\n",
        "                                'Random Forest' : rfc_per_recall,\n",
        "                                'XGBoost' : xgbc_per_recall,\n",
        "                                'Naive Bayes' : mnb_per_recall,\n",
        "                                'Decision Tree' : dt_per_recall}, \n",
        "                                index=svm.classes_)\n",
        "per_recall_list"
      ],
      "execution_count": null,
      "outputs": [
        {
          "data": {
            "text/html": [
              "<div>\n",
              "<style scoped>\n",
              "    .dataframe tbody tr th:only-of-type {\n",
              "        vertical-align: middle;\n",
              "    }\n",
              "\n",
              "    .dataframe tbody tr th {\n",
              "        vertical-align: top;\n",
              "    }\n",
              "\n",
              "    .dataframe thead th {\n",
              "        text-align: right;\n",
              "    }\n",
              "</style>\n",
              "<table border=\"1\" class=\"dataframe\">\n",
              "  <thead>\n",
              "    <tr style=\"text-align: right;\">\n",
              "      <th></th>\n",
              "      <th>Support vector Machine</th>\n",
              "      <th>Logistic Regression</th>\n",
              "      <th>Random Forest</th>\n",
              "      <th>XGBoost</th>\n",
              "      <th>Naive Bayes</th>\n",
              "      <th>Decision Tree</th>\n",
              "    </tr>\n",
              "  </thead>\n",
              "  <tbody>\n",
              "    <tr>\n",
              "      <th>anger</th>\n",
              "      <td>85.628</td>\n",
              "      <td>77.778</td>\n",
              "      <td>71.014</td>\n",
              "      <td>85.024</td>\n",
              "      <td>34.179</td>\n",
              "      <td>85.386</td>\n",
              "    </tr>\n",
              "    <tr>\n",
              "      <th>fear</th>\n",
              "      <td>84.076</td>\n",
              "      <td>76.788</td>\n",
              "      <td>69.636</td>\n",
              "      <td>83.671</td>\n",
              "      <td>25.641</td>\n",
              "      <td>85.560</td>\n",
              "    </tr>\n",
              "    <tr>\n",
              "      <th>joy</th>\n",
              "      <td>94.552</td>\n",
              "      <td>95.344</td>\n",
              "      <td>77.563</td>\n",
              "      <td>92.818</td>\n",
              "      <td>97.028</td>\n",
              "      <td>86.974</td>\n",
              "    </tr>\n",
              "    <tr>\n",
              "      <th>love</th>\n",
              "      <td>75.000</td>\n",
              "      <td>63.223</td>\n",
              "      <td>73.347</td>\n",
              "      <td>78.512</td>\n",
              "      <td>7.025</td>\n",
              "      <td>80.785</td>\n",
              "    </tr>\n",
              "    <tr>\n",
              "      <th>sadness</th>\n",
              "      <td>94.344</td>\n",
              "      <td>94.227</td>\n",
              "      <td>80.700</td>\n",
              "      <td>93.236</td>\n",
              "      <td>92.595</td>\n",
              "      <td>90.729</td>\n",
              "    </tr>\n",
              "    <tr>\n",
              "      <th>surprise</th>\n",
              "      <td>67.136</td>\n",
              "      <td>52.582</td>\n",
              "      <td>69.953</td>\n",
              "      <td>79.343</td>\n",
              "      <td>1.878</td>\n",
              "      <td>77.465</td>\n",
              "    </tr>\n",
              "  </tbody>\n",
              "</table>\n",
              "</div>"
            ],
            "text/plain": [
              "          Support vector Machine  Logistic Regression  Random Forest  XGBoost  \\\n",
              "anger                     85.628               77.778         71.014   85.024   \n",
              "fear                      84.076               76.788         69.636   83.671   \n",
              "joy                       94.552               95.344         77.563   92.818   \n",
              "love                      75.000               63.223         73.347   78.512   \n",
              "sadness                   94.344               94.227         80.700   93.236   \n",
              "surprise                  67.136               52.582         69.953   79.343   \n",
              "\n",
              "          Naive Bayes  Decision Tree  \n",
              "anger          34.179         85.386  \n",
              "fear           25.641         85.560  \n",
              "joy            97.028         86.974  \n",
              "love            7.025         80.785  \n",
              "sadness        92.595         90.729  \n",
              "surprise        1.878         77.465  "
            ]
          },
          "execution_count": 31,
          "metadata": {},
          "output_type": "execute_result"
        }
      ]
    },
    {
      "cell_type": "markdown",
      "metadata": {
        "id": "H9i-eqkpNb6-"
      },
      "source": [
        "## 5.3 Accuracy Visualization for all models"
      ]
    },
    {
      "cell_type": "code",
      "metadata": {
        "scrolled": false,
        "id": "JP1leD-jNb6-",
        "outputId": "0d826994-fa25-4d85-d154-af72cb7a291d"
      },
      "source": [
        "algorithms = ['SVM','Logistic Regression','Random Forest','XGBoost','Naive Bayes','Decision Tree']\n",
        "algorithm_acc = [svm_acc*100, lr_acc*100, rfc_acc*100, xgbc_acc*100, mnb_acc*100, dt_acc*100]\n",
        "\n",
        "algorithms = ['Decision Tree','Naive Bayes','XGBoost','Random Forest','Logistic Regression','SVM']\n",
        "algorithm_acc = [dt_acc*100, mnb_acc*100, xgbc_acc*100, rfc_acc*100, lr_acc*100, svm_acc*100]\n",
        "# Figure Size\n",
        "fig = plt.figure(figsize =(10, 5))\n",
        "bar_list = plt.barh(algorithms, algorithm_acc,height = 0.6,color='black')\n",
        "bar_list[5].set_color('#7CAADE')\n",
        "bar_list[4].set_color('#E396B6')\n",
        "bar_list[3].set_color('#FFDF80')\n",
        "bar_list[2].set_color('#B096E3')\n",
        "bar_list[1].set_color('#FFB49C')\n",
        "bar_list[0].set_color('#B9E396')\n",
        "plt.xlabel('Accuracy',color='black')\n",
        "plt.ylabel('Models',color='black')\n",
        "plt.title('Accuracy for 6 Models')\n",
        "plt.xlim(0,110)\n",
        "\n",
        "for i, v in enumerate(algorithm_acc):\n",
        "    plt.text(v + 0.5, i - 0.1, str(round(v,2))+'%', color='black',fontsize=10)\n",
        "    \n",
        "plt.show()"
      ],
      "execution_count": null,
      "outputs": [
        {
          "data": {
            "image/png": "[encoded data removed]",
            "text/plain": [
              "<Figure size 720x360 with 1 Axes>"
            ]
          },
          "metadata": {
            "needs_background": "light"
          },
          "output_type": "display_data"
        }
      ]
    },
    {
      "cell_type": "markdown",
      "metadata": {
        "id": "az9LaMvyNb6-"
      },
      "source": [
        "# 6. Prediction"
      ]
    },
    {
      "cell_type": "code",
      "metadata": {
        "id": "yC5ORtQGNb6_",
        "outputId": "c33df24b-ae04-49b6-b6f2-95f44b658010"
      },
      "source": [
        "while True:\n",
        "    input_str = input(\"What's in your mind: \")\n",
        "    if input_str == 'nothing':\n",
        "        break\n",
        "        \n",
        "    processed_text = tfidf_transformer_xtest.fit_transform(countVectorizer1.transform([input_str]))\n",
        "    print('Emotion using SVM: ',end = '')\n",
        "    print(svm.predict(processed_text))\n",
        "    print('Emotion using Logistic Regression: ',end = '')\n",
        "    print(logisticRegr.predict(processed_text))\n",
        "    print('Emotion using Decision Tree: ',end = '')\n",
        "    print(dt.predict(processed_text))\n",
        "    print('Emotion using Naive Bayes: ',end = '')\n",
        "    print(mnb.predict(processed_text))\n",
        "    print('Emotion using XGBoost: ',end = '')\n",
        "    print(xgbc.predict(processed_text))\n",
        "    print('Emotion using Random Forest: ',end = '')\n",
        "    print(rfc.predict(processed_text))"
      ],
      "execution_count": null,
      "outputs": [
        {
          "name": "stdout",
          "output_type": "stream",
          "text": [
            "What's in your mind: :(\n",
            "Emotion using SVM: ['sadness']\n",
            "Emotion using Logistic Regression: ['sadness']\n",
            "Emotion using Decision Tree: ['sadness']\n",
            "Emotion using Naive Bayes: ['sadness']\n",
            "Emotion using XGBoost: ['sadness']\n",
            "Emotion using Random Forest: ['sadness']\n",
            "What's in your mind: nothing\n"
          ]
        }
      ]
    }
  ]
}